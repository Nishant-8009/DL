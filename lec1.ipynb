{
  "nbformat": 4,
  "nbformat_minor": 0,
  "metadata": {
    "colab": {
      "provenance": [],
      "authorship_tag": "ABX9TyN9RfJJgfAP36yNdm7ZWCKc",
      "include_colab_link": true
    },
    "kernelspec": {
      "name": "python3",
      "display_name": "Python 3"
    },
    "language_info": {
      "name": "python"
    }
  },
  "cells": [
    {
      "cell_type": "markdown",
      "metadata": {
        "id": "view-in-github",
        "colab_type": "text"
      },
      "source": [
        "<a href=\"https://colab.research.google.com/github/Nishant-8009/DL/blob/main/lec1.ipynb\" target=\"_parent\"><img src=\"https://colab.research.google.com/assets/colab-badge.svg\" alt=\"Open In Colab\"/></a>"
      ]
    },
    {
      "cell_type": "code",
      "execution_count": null,
      "metadata": {
        "id": "-q0N6UhgZjZD"
      },
      "outputs": [],
      "source": [
        "import torch\n"
      ]
    },
    {
      "cell_type": "code",
      "source": [
        "t1 = torch.tensor(4.)\n",
        "t1.shape"
      ],
      "metadata": {
        "id": "CMmn3-K6aVyh"
      },
      "execution_count": null,
      "outputs": []
    },
    {
      "cell_type": "code",
      "source": [
        "t2 = torch.tensor([1,2.,3,5])\n",
        "\n",
        "t2.shape"
      ],
      "metadata": {
        "id": "STMNeJAsa_2G"
      },
      "execution_count": null,
      "outputs": []
    },
    {
      "cell_type": "code",
      "source": [
        "x = torch.tensor(3.)\n",
        "w = torch.tensor(4., requires_grad=True)\n",
        "b = torch.tensor(5., requires_grad=True)\n",
        "x, w, b"
      ],
      "metadata": {
        "id": "pHs6HXGVgyW2"
      },
      "execution_count": null,
      "outputs": []
    },
    {
      "cell_type": "code",
      "source": [
        "y = w * x + b\n",
        "y"
      ],
      "metadata": {
        "id": "IUM4sIPXg45r"
      },
      "execution_count": null,
      "outputs": []
    },
    {
      "cell_type": "code",
      "source": [
        "y.backward()"
      ],
      "metadata": {
        "id": "dzUQMZMcgw-h"
      },
      "execution_count": null,
      "outputs": []
    },
    {
      "cell_type": "code",
      "source": [
        "# Display gradients\n",
        "print('dy/dx:', x.grad)\n",
        "print('dy/dw:', w.grad)\n",
        "print('dy/db:', b.grad)"
      ],
      "metadata": {
        "id": "gC0F8sFUg3y-"
      },
      "execution_count": null,
      "outputs": []
    },
    {
      "cell_type": "markdown",
      "source": [
        "Lec 2 Linear Regression"
      ],
      "metadata": {
        "id": "c2YF0VQuus8g"
      }
    },
    {
      "cell_type": "code",
      "source": [
        "import numpy as np"
      ],
      "metadata": {
        "id": "UGnCBPjpuxgm"
      },
      "execution_count": null,
      "outputs": []
    },
    {
      "cell_type": "code",
      "source": [
        "# Input (temp, rainfall, humidity)\n",
        "inputs = np.array([[73, 67, 43],\n",
        "                   [91, 88, 64],\n",
        "                   [87, 134, 58],\n",
        "                   [102, 43, 37],\n",
        "                   [69, 96, 70]], dtype='float32')"
      ],
      "metadata": {
        "id": "0zrekB4rwKMt"
      },
      "execution_count": null,
      "outputs": []
    },
    {
      "cell_type": "code",
      "source": [
        "# Targets (apples, oranges)\n",
        "targets = np.array([[56, 70],\n",
        "                    [81, 101],\n",
        "                    [119, 133],\n",
        "                    [22, 37],\n",
        "                    [103, 119]], dtype='float32')"
      ],
      "metadata": {
        "id": "rHyCExhIwO2x"
      },
      "execution_count": null,
      "outputs": []
    },
    {
      "cell_type": "code",
      "source": [
        "# Convert inputs and targets to tensors\n",
        "inputs = torch.from_numpy(inputs)\n",
        "targets = torch.from_numpy(targets)\n",
        "print(inputs)\n",
        "print(targets)"
      ],
      "metadata": {
        "colab": {
          "base_uri": "https://localhost:8080/"
        },
        "id": "RLmz-3tpwTaP",
        "outputId": "d4858679-88f5-44cd-b7ea-7b8b6d1893ff"
      },
      "execution_count": null,
      "outputs": [
        {
          "output_type": "stream",
          "name": "stdout",
          "text": [
            "tensor([[ 73.,  67.,  43.],\n",
            "        [ 91.,  88.,  64.],\n",
            "        [ 87., 134.,  58.],\n",
            "        [102.,  43.,  37.],\n",
            "        [ 69.,  96.,  70.]])\n",
            "tensor([[ 56.,  70.],\n",
            "        [ 81., 101.],\n",
            "        [119., 133.],\n",
            "        [ 22.,  37.],\n",
            "        [103., 119.]])\n"
          ]
        }
      ]
    },
    {
      "cell_type": "code",
      "source": [
        "# Weights and biases\n",
        "w = torch.randn(2, 3, requires_grad=True)\n",
        "b = torch.randn(2, requires_grad=True)\n",
        "print(w)\n",
        "print(b)"
      ],
      "metadata": {
        "colab": {
          "base_uri": "https://localhost:8080/"
        },
        "id": "-XrtD0GDwYUs",
        "outputId": "42ffcc45-f806-46ee-8a82-95e7aff474eb"
      },
      "execution_count": null,
      "outputs": [
        {
          "output_type": "stream",
          "name": "stdout",
          "text": [
            "tensor([[ 0.7055, -0.6217,  0.5275],\n",
            "        [ 0.5770, -1.2273,  0.2831]], requires_grad=True)\n",
            "tensor([ 0.8636, -0.6627], requires_grad=True)\n"
          ]
        }
      ]
    },
    {
      "cell_type": "code",
      "source": [
        "def model(x):\n",
        "    return x @ w.t() + b"
      ],
      "metadata": {
        "id": "2JqODsx-zElm"
      },
      "execution_count": null,
      "outputs": []
    },
    {
      "cell_type": "code",
      "source": [
        "# Generate predictions\n",
        "preds = model(inputs)\n",
        "print(preds)"
      ],
      "metadata": {
        "id": "tb693zJWzJVd"
      },
      "execution_count": null,
      "outputs": []
    },
    {
      "cell_type": "code",
      "source": [
        "# Compare with targets\n",
        "print(targets)"
      ],
      "metadata": {
        "id": "AdDkPqofzK3q"
      },
      "execution_count": null,
      "outputs": []
    },
    {
      "cell_type": "code",
      "source": [
        "# MSE loss\n",
        "def mse(t1, t2):\n",
        "    diff = t1 - t2\n",
        "    return torch.sum(diff * diff) / diff.numel()"
      ],
      "metadata": {
        "id": "GR3KFaP6zNa5"
      },
      "execution_count": null,
      "outputs": []
    },
    {
      "cell_type": "code",
      "source": [
        "# Compute loss\n",
        "loss = mse(preds, targets)\n",
        "print(loss)"
      ],
      "metadata": {
        "id": "Vh3DodRrzQt6"
      },
      "execution_count": null,
      "outputs": []
    },
    {
      "cell_type": "code",
      "source": [
        "loss.backward()"
      ],
      "metadata": {
        "id": "8Vs0aGPPzeRk"
      },
      "execution_count": null,
      "outputs": []
    },
    {
      "cell_type": "code",
      "source": [
        "print(w)\n",
        "print(w.grad)"
      ],
      "metadata": {
        "id": "EQ78dHVtziRD"
      },
      "execution_count": null,
      "outputs": []
    },
    {
      "cell_type": "code",
      "source": [
        "print(b)\n",
        "print(b.grad)"
      ],
      "metadata": {
        "id": "FU0P59dazqv0"
      },
      "execution_count": null,
      "outputs": []
    },
    {
      "cell_type": "code",
      "source": [
        "with torch.no_grad():\n",
        "    w -= w.grad * 1e-5\n",
        "    b -= b.grad * 1e-5"
      ],
      "metadata": {
        "id": "PJVqbT71z3je"
      },
      "execution_count": null,
      "outputs": []
    },
    {
      "cell_type": "code",
      "source": [
        "# Let's verify that the loss is actually lower\n",
        "preds = model(inputs)\n",
        "loss = mse(preds, targets)\n",
        "print(loss)"
      ],
      "metadata": {
        "id": "eGz_p6wJ2buK"
      },
      "execution_count": null,
      "outputs": []
    },
    {
      "cell_type": "markdown",
      "source": [
        "Train model"
      ],
      "metadata": {
        "id": "0HoTuHfQ3HLt"
      }
    },
    {
      "cell_type": "code",
      "source": [
        "# Generate predictions\n",
        "preds = model(inputs)\n",
        "print(preds)"
      ],
      "metadata": {
        "id": "biJ3r10t22dN"
      },
      "execution_count": null,
      "outputs": []
    },
    {
      "cell_type": "code",
      "source": [
        "# Calculate the loss\n",
        "loss = mse(preds, targets)\n",
        "print(loss)"
      ],
      "metadata": {
        "id": "auph5kVj3PFM"
      },
      "execution_count": null,
      "outputs": []
    },
    {
      "cell_type": "code",
      "source": [
        "# Compute gradients\n",
        "loss.backward()\n",
        "print(w.grad)\n",
        "print(b.grad)"
      ],
      "metadata": {
        "id": "NhzsvlSQ3ShS"
      },
      "execution_count": null,
      "outputs": []
    },
    {
      "cell_type": "code",
      "source": [
        "# Adjust weights & reset gradients\n",
        "with torch.no_grad():\n",
        "    w -= w.grad * 1e-5\n",
        "    b -= b.grad * 1e-5\n",
        "    w.grad.zero_()\n",
        "    b.grad.zero_()"
      ],
      "metadata": {
        "id": "CpEW7f6A3VR_"
      },
      "execution_count": null,
      "outputs": []
    },
    {
      "cell_type": "code",
      "source": [
        "# Train for 100 epochs\n",
        "for i in range(100):\n",
        "    preds = model(inputs)\n",
        "    loss = mse(preds, targets)\n",
        "    print(loss)\n",
        "    loss.backward()\n",
        "    with torch.no_grad():\n",
        "        w -= w.grad * 1e-5\n",
        "        b -= b.grad * 1e-5\n",
        "        w.grad.zero_()\n",
        "        b.grad.zero_()"
      ],
      "metadata": {
        "colab": {
          "base_uri": "https://localhost:8080/"
        },
        "id": "AsE-DvxS3Y0E",
        "outputId": "491fe97a-6672-470a-8721-03f356db3ba0"
      },
      "execution_count": null,
      "outputs": [
        {
          "output_type": "stream",
          "name": "stdout",
          "text": [
            "tensor(2.0006, grad_fn=<DivBackward0>)\n",
            "tensor(1.9855, grad_fn=<DivBackward0>)\n",
            "tensor(1.9707, grad_fn=<DivBackward0>)\n",
            "tensor(1.9560, grad_fn=<DivBackward0>)\n",
            "tensor(1.9414, grad_fn=<DivBackward0>)\n",
            "tensor(1.9271, grad_fn=<DivBackward0>)\n",
            "tensor(1.9129, grad_fn=<DivBackward0>)\n",
            "tensor(1.8990, grad_fn=<DivBackward0>)\n",
            "tensor(1.8851, grad_fn=<DivBackward0>)\n",
            "tensor(1.8715, grad_fn=<DivBackward0>)\n",
            "tensor(1.8580, grad_fn=<DivBackward0>)\n",
            "tensor(1.8447, grad_fn=<DivBackward0>)\n",
            "tensor(1.8315, grad_fn=<DivBackward0>)\n",
            "tensor(1.8185, grad_fn=<DivBackward0>)\n",
            "tensor(1.8056, grad_fn=<DivBackward0>)\n",
            "tensor(1.7929, grad_fn=<DivBackward0>)\n",
            "tensor(1.7804, grad_fn=<DivBackward0>)\n",
            "tensor(1.7680, grad_fn=<DivBackward0>)\n",
            "tensor(1.7558, grad_fn=<DivBackward0>)\n",
            "tensor(1.7437, grad_fn=<DivBackward0>)\n",
            "tensor(1.7317, grad_fn=<DivBackward0>)\n",
            "tensor(1.7199, grad_fn=<DivBackward0>)\n",
            "tensor(1.7083, grad_fn=<DivBackward0>)\n",
            "tensor(1.6968, grad_fn=<DivBackward0>)\n",
            "tensor(1.6854, grad_fn=<DivBackward0>)\n",
            "tensor(1.6742, grad_fn=<DivBackward0>)\n",
            "tensor(1.6631, grad_fn=<DivBackward0>)\n",
            "tensor(1.6521, grad_fn=<DivBackward0>)\n",
            "tensor(1.6412, grad_fn=<DivBackward0>)\n",
            "tensor(1.6305, grad_fn=<DivBackward0>)\n",
            "tensor(1.6200, grad_fn=<DivBackward0>)\n",
            "tensor(1.6095, grad_fn=<DivBackward0>)\n",
            "tensor(1.5992, grad_fn=<DivBackward0>)\n",
            "tensor(1.5890, grad_fn=<DivBackward0>)\n",
            "tensor(1.5789, grad_fn=<DivBackward0>)\n",
            "tensor(1.5689, grad_fn=<DivBackward0>)\n",
            "tensor(1.5591, grad_fn=<DivBackward0>)\n",
            "tensor(1.5494, grad_fn=<DivBackward0>)\n",
            "tensor(1.5398, grad_fn=<DivBackward0>)\n",
            "tensor(1.5303, grad_fn=<DivBackward0>)\n",
            "tensor(1.5209, grad_fn=<DivBackward0>)\n",
            "tensor(1.5116, grad_fn=<DivBackward0>)\n",
            "tensor(1.5025, grad_fn=<DivBackward0>)\n",
            "tensor(1.4934, grad_fn=<DivBackward0>)\n",
            "tensor(1.4845, grad_fn=<DivBackward0>)\n",
            "tensor(1.4757, grad_fn=<DivBackward0>)\n",
            "tensor(1.4669, grad_fn=<DivBackward0>)\n",
            "tensor(1.4583, grad_fn=<DivBackward0>)\n",
            "tensor(1.4498, grad_fn=<DivBackward0>)\n",
            "tensor(1.4414, grad_fn=<DivBackward0>)\n",
            "tensor(1.4331, grad_fn=<DivBackward0>)\n",
            "tensor(1.4248, grad_fn=<DivBackward0>)\n",
            "tensor(1.4167, grad_fn=<DivBackward0>)\n",
            "tensor(1.4087, grad_fn=<DivBackward0>)\n",
            "tensor(1.4008, grad_fn=<DivBackward0>)\n",
            "tensor(1.3929, grad_fn=<DivBackward0>)\n",
            "tensor(1.3852, grad_fn=<DivBackward0>)\n",
            "tensor(1.3775, grad_fn=<DivBackward0>)\n",
            "tensor(1.3700, grad_fn=<DivBackward0>)\n",
            "tensor(1.3625, grad_fn=<DivBackward0>)\n",
            "tensor(1.3551, grad_fn=<DivBackward0>)\n",
            "tensor(1.3478, grad_fn=<DivBackward0>)\n",
            "tensor(1.3406, grad_fn=<DivBackward0>)\n",
            "tensor(1.3335, grad_fn=<DivBackward0>)\n",
            "tensor(1.3264, grad_fn=<DivBackward0>)\n",
            "tensor(1.3195, grad_fn=<DivBackward0>)\n",
            "tensor(1.3126, grad_fn=<DivBackward0>)\n",
            "tensor(1.3058, grad_fn=<DivBackward0>)\n",
            "tensor(1.2991, grad_fn=<DivBackward0>)\n",
            "tensor(1.2925, grad_fn=<DivBackward0>)\n",
            "tensor(1.2859, grad_fn=<DivBackward0>)\n",
            "tensor(1.2794, grad_fn=<DivBackward0>)\n",
            "tensor(1.2730, grad_fn=<DivBackward0>)\n",
            "tensor(1.2667, grad_fn=<DivBackward0>)\n",
            "tensor(1.2604, grad_fn=<DivBackward0>)\n",
            "tensor(1.2542, grad_fn=<DivBackward0>)\n",
            "tensor(1.2481, grad_fn=<DivBackward0>)\n",
            "tensor(1.2421, grad_fn=<DivBackward0>)\n",
            "tensor(1.2361, grad_fn=<DivBackward0>)\n",
            "tensor(1.2302, grad_fn=<DivBackward0>)\n",
            "tensor(1.2244, grad_fn=<DivBackward0>)\n",
            "tensor(1.2186, grad_fn=<DivBackward0>)\n",
            "tensor(1.2129, grad_fn=<DivBackward0>)\n",
            "tensor(1.2073, grad_fn=<DivBackward0>)\n",
            "tensor(1.2017, grad_fn=<DivBackward0>)\n",
            "tensor(1.1962, grad_fn=<DivBackward0>)\n",
            "tensor(1.1908, grad_fn=<DivBackward0>)\n",
            "tensor(1.1854, grad_fn=<DivBackward0>)\n",
            "tensor(1.1801, grad_fn=<DivBackward0>)\n",
            "tensor(1.1748, grad_fn=<DivBackward0>)\n",
            "tensor(1.1696, grad_fn=<DivBackward0>)\n",
            "tensor(1.1645, grad_fn=<DivBackward0>)\n",
            "tensor(1.1594, grad_fn=<DivBackward0>)\n",
            "tensor(1.1544, grad_fn=<DivBackward0>)\n",
            "tensor(1.1494, grad_fn=<DivBackward0>)\n",
            "tensor(1.1445, grad_fn=<DivBackward0>)\n",
            "tensor(1.1397, grad_fn=<DivBackward0>)\n",
            "tensor(1.1349, grad_fn=<DivBackward0>)\n",
            "tensor(1.1302, grad_fn=<DivBackward0>)\n",
            "tensor(1.1255, grad_fn=<DivBackward0>)\n"
          ]
        }
      ]
    },
    {
      "cell_type": "code",
      "source": [
        "preds"
      ],
      "metadata": {
        "colab": {
          "base_uri": "https://localhost:8080/"
        },
        "id": "Skuetb-H30bW",
        "outputId": "9cea98ba-8fad-42eb-f5fb-3b6b32e2f923"
      },
      "execution_count": null,
      "outputs": [
        {
          "output_type": "execute_result",
          "data": {
            "text/plain": [
              "tensor([[ 57.4154,  70.4028],\n",
              "        [ 82.7583, 100.7424],\n",
              "        [117.0394, 132.6415],\n",
              "        [ 21.7429,  38.2084],\n",
              "        [102.6624, 118.4358]], grad_fn=<AddBackward0>)"
            ]
          },
          "metadata": {},
          "execution_count": 51
        }
      ]
    },
    {
      "cell_type": "code",
      "source": [
        "targets"
      ],
      "metadata": {
        "colab": {
          "base_uri": "https://localhost:8080/"
        },
        "id": "jeaW-cP_32Vt",
        "outputId": "3a1f44be-74f8-4864-a8e4-d45bd93f1724"
      },
      "execution_count": null,
      "outputs": [
        {
          "output_type": "execute_result",
          "data": {
            "text/plain": [
              "tensor([[ 56.,  70.],\n",
              "        [ 81., 101.],\n",
              "        [119., 133.],\n",
              "        [ 22.,  37.],\n",
              "        [103., 119.]])"
            ]
          },
          "metadata": {},
          "execution_count": 43
        }
      ]
    },
    {
      "cell_type": "code",
      "source": [
        "import torch.nn as nn"
      ],
      "metadata": {
        "id": "v_AiUdSA5uD2"
      },
      "execution_count": null,
      "outputs": []
    },
    {
      "cell_type": "code",
      "source": [
        "# Input (temp, rainfall, humidity)\n",
        "inputs = np.array([[73, 67, 43],\n",
        "                   [91, 88, 64],\n",
        "                   [87, 134, 58],\n",
        "                   [102, 43, 37],\n",
        "                   [69, 96, 70],\n",
        "                   [74, 66, 43],\n",
        "                   [91, 87, 65],\n",
        "                   [88, 134, 59],\n",
        "                   [101, 44, 37],\n",
        "                   [68, 96, 71],\n",
        "                   [73, 66, 44],\n",
        "                   [92, 87, 64],\n",
        "                   [87, 135, 57],\n",
        "                   [103, 43, 36],\n",
        "                   [68, 97, 70]],\n",
        "                  dtype='float32')\n",
        "\n",
        "# Targets (apples, oranges)\n",
        "targets = np.array([[56, 70],\n",
        "                    [81, 101],\n",
        "                    [119, 133],\n",
        "                    [22, 37],\n",
        "                    [103, 119],\n",
        "                    [57, 69],\n",
        "                    [80, 102],\n",
        "                    [118, 132],\n",
        "                    [21, 38],\n",
        "                    [104, 118],\n",
        "                    [57, 69],\n",
        "                    [82, 100],\n",
        "                    [118, 134],\n",
        "                    [20, 38],\n",
        "                    [102, 120]],\n",
        "                   dtype='float32')\n",
        "\n",
        "inputs = torch.from_numpy(inputs)\n",
        "targets = torch.from_numpy(targets)"
      ],
      "metadata": {
        "id": "QYu9lf9a5x5j"
      },
      "execution_count": null,
      "outputs": []
    },
    {
      "cell_type": "code",
      "source": [
        "from torch.utils.data import TensorDataset"
      ],
      "metadata": {
        "id": "xbVYqOKK50Xz"
      },
      "execution_count": null,
      "outputs": []
    },
    {
      "cell_type": "code",
      "source": [
        "# Define dataset\n",
        "train_ds = TensorDataset(inputs, targets)"
      ],
      "metadata": {
        "id": "9V06P1Q453Tc"
      },
      "execution_count": null,
      "outputs": []
    },
    {
      "cell_type": "code",
      "source": [
        "from torch.utils.data import DataLoader"
      ],
      "metadata": {
        "id": "uLAUlBgN56J-"
      },
      "execution_count": null,
      "outputs": []
    },
    {
      "cell_type": "code",
      "source": [
        "# Define data loader\n",
        "batch_size = 5\n",
        "train_dl = DataLoader(train_ds, batch_size, shuffle=True)"
      ],
      "metadata": {
        "id": "jUzqltbj6jXj"
      },
      "execution_count": null,
      "outputs": []
    },
    {
      "cell_type": "code",
      "source": [
        "for xb, yb in train_dl:\n",
        "    print(xb)\n",
        "    print(yb)\n",
        "    break"
      ],
      "metadata": {
        "colab": {
          "base_uri": "https://localhost:8080/"
        },
        "id": "jDPGUm6d6veR",
        "outputId": "f7de7207-0d77-4b1c-fc44-6eb763f3e2f3"
      },
      "execution_count": null,
      "outputs": [
        {
          "output_type": "stream",
          "name": "stdout",
          "text": [
            "tensor([[ 73.,  67.,  43.],\n",
            "        [ 68.,  97.,  70.],\n",
            "        [101.,  44.,  37.],\n",
            "        [ 88., 134.,  59.],\n",
            "        [ 91.,  88.,  64.]])\n",
            "tensor([[ 56.,  70.],\n",
            "        [102., 120.],\n",
            "        [ 21.,  38.],\n",
            "        [118., 132.],\n",
            "        [ 81., 101.]])\n"
          ]
        }
      ]
    },
    {
      "cell_type": "code",
      "source": [
        "# Define model\n",
        "model = nn.Linear(3, 2)\n",
        "print(model.weight)\n",
        "print(model.bias)"
      ],
      "metadata": {
        "colab": {
          "base_uri": "https://localhost:8080/"
        },
        "id": "_U59LZz0-Gcu",
        "outputId": "cfb9d4c4-adb8-4682-de44-38b171008092"
      },
      "execution_count": null,
      "outputs": [
        {
          "output_type": "stream",
          "name": "stdout",
          "text": [
            "Parameter containing:\n",
            "tensor([[ 0.5735,  0.2510, -0.2268],\n",
            "        [-0.3716,  0.2546,  0.1006]], requires_grad=True)\n",
            "Parameter containing:\n",
            "tensor([-0.4546, -0.4877], requires_grad=True)\n"
          ]
        }
      ]
    },
    {
      "cell_type": "code",
      "source": [
        "# Parameters\n",
        "list(model.parameters())"
      ],
      "metadata": {
        "colab": {
          "base_uri": "https://localhost:8080/"
        },
        "id": "W3XIaE_H-Gw-",
        "outputId": "c4bcc539-ecf0-439b-a8e5-083dc8d8c0af"
      },
      "execution_count": null,
      "outputs": [
        {
          "output_type": "execute_result",
          "data": {
            "text/plain": [
              "[Parameter containing:\n",
              " tensor([[ 0.5735,  0.2510, -0.2268],\n",
              "         [-0.3716,  0.2546,  0.1006]], requires_grad=True),\n",
              " Parameter containing:\n",
              " tensor([-0.4546, -0.4877], requires_grad=True)]"
            ]
          },
          "metadata": {},
          "execution_count": 78
        }
      ]
    },
    {
      "cell_type": "code",
      "source": [
        "# Import nn.functional\n",
        "import torch.nn.functional as F"
      ],
      "metadata": {
        "id": "PM8ZfRL0-H8w"
      },
      "execution_count": null,
      "outputs": []
    },
    {
      "cell_type": "code",
      "source": [
        "# Define loss function\n",
        "loss_fn = F.mse_loss"
      ],
      "metadata": {
        "id": "UmXCSVjW-KHU"
      },
      "execution_count": null,
      "outputs": []
    },
    {
      "cell_type": "code",
      "source": [
        "# Define optimizer\n",
        "opt = torch.optim.SGD(model.parameters(), lr=1e-5)"
      ],
      "metadata": {
        "id": "vZHeJTdG-Lgy"
      },
      "execution_count": null,
      "outputs": []
    },
    {
      "cell_type": "code",
      "source": [
        "# Utility function to train the model\n",
        "def fit(num_epochs, model, loss_fn, opt, train_dl):\n",
        "\n",
        "    # Repeat for given number of epochs\n",
        "    for epoch in range(num_epochs):\n",
        "\n",
        "        # Train with batches of data\n",
        "        for xb,yb in train_dl:\n",
        "\n",
        "            # 1. Generate predictions\n",
        "            pred = model(xb)\n",
        "\n",
        "            # 2. Calculate loss\n",
        "            loss = loss_fn(pred, yb)\n",
        "\n",
        "            # 3. Compute gradients\n",
        "            loss.backward()\n",
        "\n",
        "            # 4. Update parameters using gradients\n",
        "            opt.step()\n",
        "\n",
        "            # 5. Reset the gradients to zero\n",
        "            opt.zero_grad()\n",
        "\n",
        "        # Print the progress\n",
        "        if (epoch+1) % 10 == 0:\n",
        "            print('Epoch [{}/{}], Loss: {:.4f}'.format(epoch+1, num_epochs, loss.item()))"
      ],
      "metadata": {
        "id": "HCO3mrHu-NOm"
      },
      "execution_count": null,
      "outputs": []
    },
    {
      "cell_type": "code",
      "source": [
        "fit(50, model, loss_fn, opt, train_dl)"
      ],
      "metadata": {
        "colab": {
          "base_uri": "https://localhost:8080/"
        },
        "id": "C5A2KNDi-P5m",
        "outputId": "4ae92fe4-9a12-48df-e571-c0001fedb0b0"
      },
      "execution_count": null,
      "outputs": [
        {
          "output_type": "stream",
          "name": "stdout",
          "text": [
            "Epoch [10/50], Loss: 26.3142\n",
            "Epoch [20/50], Loss: 39.2359\n",
            "Epoch [30/50], Loss: 30.5236\n",
            "Epoch [40/50], Loss: 40.3584\n",
            "Epoch [50/50], Loss: 31.3181\n"
          ]
        }
      ]
    },
    {
      "cell_type": "code",
      "source": [
        "# Generate predictions\n",
        "preds = model(inputs)\n",
        "preds"
      ],
      "metadata": {
        "colab": {
          "base_uri": "https://localhost:8080/"
        },
        "id": "U2AvKEUx-ZEl",
        "outputId": "431370b5-614f-45e2-c63e-ee255c6d9d98"
      },
      "execution_count": null,
      "outputs": [
        {
          "output_type": "execute_result",
          "data": {
            "text/plain": [
              "tensor([[ 57.9323,  70.7870],\n",
              "        [ 78.9953,  98.6016],\n",
              "        [124.3696, 137.0480],\n",
              "        [ 25.9222,  39.8994],\n",
              "        [ 93.4465, 113.7496],\n",
              "        [ 56.7013,  69.6912],\n",
              "        [ 78.2148,  98.3038],\n",
              "        [124.3452, 137.4475],\n",
              "        [ 27.1532,  40.9952],\n",
              "        [ 93.8970, 114.5476],\n",
              "        [ 57.1518,  70.4891],\n",
              "        [ 77.7643,  97.5058],\n",
              "        [125.1501, 137.3459],\n",
              "        [ 25.4717,  39.1014],\n",
              "        [ 94.6775, 114.8454]], grad_fn=<AddmmBackward0>)"
            ]
          },
          "metadata": {},
          "execution_count": 85
        }
      ]
    },
    {
      "cell_type": "code",
      "source": [
        "# Compare with targets\n",
        "targets"
      ],
      "metadata": {
        "id": "WiF1jxCc-5Hf",
        "outputId": "ee56f653-3d1b-41fb-9097-b6488b5d97d1",
        "colab": {
          "base_uri": "https://localhost:8080/"
        }
      },
      "execution_count": null,
      "outputs": [
        {
          "output_type": "execute_result",
          "data": {
            "text/plain": [
              "tensor([[ 56.,  70.],\n",
              "        [ 81., 101.],\n",
              "        [119., 133.],\n",
              "        [ 22.,  37.],\n",
              "        [103., 119.],\n",
              "        [ 57.,  69.],\n",
              "        [ 80., 102.],\n",
              "        [118., 132.],\n",
              "        [ 21.,  38.],\n",
              "        [104., 118.],\n",
              "        [ 57.,  69.],\n",
              "        [ 82., 100.],\n",
              "        [118., 134.],\n",
              "        [ 20.,  38.],\n",
              "        [102., 120.]])"
            ]
          },
          "metadata": {},
          "execution_count": 86
        }
      ]
    },
    {
      "cell_type": "code",
      "source": [],
      "metadata": {
        "id": "OtqnNCj1-5hC"
      },
      "execution_count": null,
      "outputs": []
    }
  ]
}